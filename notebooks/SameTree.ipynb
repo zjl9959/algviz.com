{
 "cells": [
  {
   "cell_type": "code",
   "execution_count": null,
   "metadata": {},
   "outputs": [],
   "source": [
    "import algviz\n",
    "\n",
    "viz = algviz.Visualizer()\n",
    "tree1_root = algviz.parseBinaryTree([1, 2, 3, 4, None, 5, 6])\n",
    "tree2_root = algviz.parseBinaryTree([1, 2, 3, 4, None, 5, 6])\n",
    "tree1 = viz.createGraph(tree1_root, 'tree1')\n",
    "tree2 = viz.createGraph(tree2_root, 'tree2')\n",
    "\n",
    "def isSameTree(p, q):\n",
    "    tree1.markNode(algviz.color_silver, p, True)\n",
    "    tree2.markNode(algviz.color_silver, q, True)\n",
    "    if p == None and q == None:\n",
    "        return True\n",
    "    elif p == None:\n",
    "        tree2.markNode(algviz.color_red, q)\n",
    "        viz.display()\n",
    "        return False\n",
    "    elif q == None:\n",
    "        tree1.markNode(algviz.color_red, p)\n",
    "        viz.display()\n",
    "        return False\n",
    "    elif p.val == q.val:\n",
    "        tree1.markNode(algviz.color_green, p)\n",
    "        tree2.markNode(algviz.color_green, q)\n",
    "        viz.display()\n",
    "        return isSameTree(p.left, q.left) and isSameTree(p.right, q.right)\n",
    "    else:\n",
    "        tree1.markNode(algviz.color_red, p)\n",
    "        tree2.markNode(algviz.color_red, q)\n",
    "        viz.display()\n",
    "        return False\n",
    "\n",
    "isSameTree(tree1_root, tree2_root)"
   ]
  },
  {
   "cell_type": "code",
   "execution_count": null,
   "metadata": {},
   "outputs": [],
   "source": [
    "import algviz\n",
    "\n",
    "viz = algviz.Visualizer()\n",
    "tree1_root = algviz.parseBinaryTree([1, 2, 7, 4, None, 5, 6])\n",
    "tree2_root = algviz.parseBinaryTree([1, 2, 3, 4, None, 5, 6])\n",
    "tree1 = viz.createGraph(tree1_root, 'tree1')\n",
    "tree2 = viz.createGraph(tree2_root, 'tree2')\n",
    "\n",
    "def isSameTree(p, q):\n",
    "    tree1.markNode(algviz.color_silver, p, True)\n",
    "    tree2.markNode(algviz.color_silver, q, True)\n",
    "    if p == None and q == None:\n",
    "        return True\n",
    "    elif p == None:\n",
    "        tree2.markNode(algviz.color_red, q)\n",
    "        viz.display()\n",
    "        return False\n",
    "    elif q == None:\n",
    "        tree1.markNode(algviz.color_red, p)\n",
    "        viz.display()\n",
    "        return False\n",
    "    elif p.val == q.val:\n",
    "        tree1.markNode(algviz.color_green, p)\n",
    "        tree2.markNode(algviz.color_green, q)\n",
    "        viz.display()\n",
    "        return isSameTree(p.left, q.left) and isSameTree(p.right, q.right)\n",
    "    else:\n",
    "        tree1.markNode(algviz.color_red, p)\n",
    "        tree2.markNode(algviz.color_red, q)\n",
    "        viz.display()\n",
    "        return False\n",
    "\n",
    "isSameTree(tree1_root, tree2_root)"
   ]
  }
 ],
 "metadata": {
  "kernelspec": {
   "display_name": "Python 3.9.6 64-bit",
   "language": "python",
   "name": "python3"
  },
  "language_info": {
   "codemirror_mode": {
    "name": "ipython",
    "version": 3
   },
   "file_extension": ".py",
   "mimetype": "text/x-python",
   "name": "python",
   "nbconvert_exporter": "python",
   "pygments_lexer": "ipython3",
   "version": "3.9.6"
  },
  "orig_nbformat": 4,
  "vscode": {
   "interpreter": {
    "hash": "815ac738e0f697bd51fd06b8a1fd40126c4f0901e89f12f4abca109931f98f14"
   }
  }
 },
 "nbformat": 4,
 "nbformat_minor": 2
}
